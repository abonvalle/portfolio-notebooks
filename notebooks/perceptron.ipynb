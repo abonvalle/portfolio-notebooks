{
 "cells": [
  {
   "cell_type": "markdown",
   "id": "179ef69b",
   "metadata": {},
   "source": [
    "# Single-Layer Perceptron\n",
    " \n",
    "Binary classification using with Kaggle Breast Cancer Wisconsin data (benign/malignant)\n",
    "https://www.kaggle.com/datasets/uciml/breast-cancer-wisconsin-data\n",
    " \n",
    "In this notebook we rebuild a classic perceptron pipeline from scratch to demystify the end-to-end workflow: loading the raw medical dataset, normalising the features, training a pocket/averaged perceptron, and interpreting the results with basic diagnostics and PCA visualisation.\n",
    " \n",
    "The emphasis is on understanding each numerical step rather than relying on high-level libraries—perfect for revisiting foundational linear classifiers."
   ]
  },
  {
   "cell_type": "markdown",
   "id": "4d5b0083",
   "metadata": {},
   "source": [
    "## Load and parse the dataset\n",
    " \n",
    "We start by importing the raw CSV provided by the UCI/Kaggle Breast Cancer Wisconsin dataset. The file contains patient-level measurements (radius, texture, smoothness, etc.), an identifier column, and the diagnosis label indicating whether the tumour is benign or malignant.\n",
    " \n",
    "The preprocessing goal here is minimal but essential: drop the non-informative identifier columns, handle missing values defensively, and encode the categorical diagnosis column into a binary numerical target."
   ]
  },
  {
   "cell_type": "code",
   "execution_count": null,
   "id": "ad9b170e",
   "metadata": {},
   "outputs": [],
   "source": [
    "# Core numerical tooling for tabular processing and vector math\n",
    "import pandas as pd\n",
    "import numpy as np"
   ]
  },
  {
   "cell_type": "code",
   "execution_count": null,
   "id": "aef796b3",
   "metadata": {},
   "outputs": [],
   "source": [
    "file_path = \"../datasets/breast-cancer-wisconsin-data.csv\"\n",
    "\n",
    "# Load dataset\n",
    "df = pd.read_csv(file_path)\n",
    "\n",
    "# Drop unnecessary columns\n",
    "df = df.drop(columns=['id', 'Unnamed: 32'], errors='ignore')  \n",
    "df = df.dropna()\n",
    "\n",
    "# Encode labels: M = 1 (malignant), B = 0 (benign)\n",
    "df['diagnosis'] = df['diagnosis'].map({'M': 1, 'B': 0})\n",
    "\n",
    "# Split into features and target\n",
    "X = df.drop(columns='diagnosis').astype(float).values\n",
    "y = df['diagnosis'].values"
   ]
  },
  {
   "cell_type": "markdown",
   "id": "660a1bfc",
   "metadata": {},
   "source": [
    "## Prepare train/test data\n",
    " \n",
    "With clean features in hand we separate the dataframe into the design matrix `X` and binary target `y`. A tiny helper implements a reproducible random split so we can reserve a hold-out set for evaluation."
   ]
  },
  {
   "cell_type": "code",
   "execution_count": null,
   "id": "97a53b3f",
   "metadata": {},
   "outputs": [],
   "source": [
    "def train_test_split(X, y, test_size=0.2, random_state=None):\n",
    "    # Minimal reimplementation of sklearn.model_selection.train_test_split\n",
    "    rng = np.random.default_rng(random_state)\n",
    "    n_samples = X.shape[0]\n",
    "    indices = rng.permutation(n_samples)\n",
    "    \n",
    "    test_count = int(n_samples * test_size)\n",
    "    test_idx = indices[:test_count]\n",
    "    train_idx = indices[test_count:]\n",
    "    \n",
    "    return X[train_idx], X[test_idx], y[train_idx], y[test_idx]"
   ]
  },
  {
   "cell_type": "code",
   "execution_count": 539,
   "id": "18f787dd",
   "metadata": {},
   "outputs": [],
   "source": [
    "# Split into train and test\n",
    "X_train, X_test, y_train, y_test = train_test_split(X, y, test_size=0.2, random_state=42)"
   ]
  },
  {
   "cell_type": "code",
   "execution_count": null,
   "id": "a561abcf",
   "metadata": {},
   "outputs": [],
   "source": [
    "# Standardise features using only training-set statistics\n",
    "train_mean = np.mean(X_train, axis=0)\n",
    "train_std = np.std(X_train, axis=0)\n",
    "train_std[train_std == 0] = 1.0\n",
    " \n",
    "X_train = (X_train - train_mean) / train_std\n",
    "X_test = (X_test - train_mean) / train_std"
   ]
  },
  {
   "cell_type": "markdown",
   "id": "521b62c2",
   "metadata": {},
   "source": [
    "## Train a pocket/averaged perceptron\n",
    " \n",
    "We reimplement the classic Rosenblatt perceptron with two stability tweaks:\n",
    "- labels are mapped to `±1` so margin checks become simple sign tests;\n",
    "- we maintain both a *pocket* (best-performing) set of weights and an *averaged* set to reduce variance.\n",
    " \n",
    "During each epoch we shuffle examples, update the weights on mistakes, and track the best validation accuracy. Averaging (also known as the voted perceptron) tends to improve generalisation on noisy datasets."
   ]
  },
  {
   "cell_type": "code",
   "execution_count": null,
   "id": "715687f8",
   "metadata": {},
   "outputs": [
    {
     "name": "stdout",
     "output_type": "stream",
     "text": [
      "Epoch 0, misclassifications: 23, val_acc: 0.9558\n",
      "Epoch 100, misclassifications: 8, val_acc: 0.9469\n",
      "Epoch 200, misclassifications: 6, val_acc: 0.9292\n",
      "Epoch 300, misclassifications: 6, val_acc: 0.9469\n",
      "Epoch 375, misclassifications: 0, val_acc: 0.9558\n",
      "Converged (no errors) at epoch 375\n"
     ]
    }
   ],
   "source": [
    "# Convert labels to -1/+1 representation for the perceptron margin check\n",
    "y_train_signed = np.where(y_train == 1, 1, -1)\n",
    "y_test_signed  = np.where(y_test  == 1, 1, -1)\n",
    "\n",
    "n_features = X_train.shape[1]\n",
    "n_epochs = 1000\n",
    "lr = 0.01\n",
    "\n",
    "# Deterministic RNG keeps the experiment reproducible\n",
    "rng = np.random.default_rng(42)  # local RNG\n",
    "w = rng.normal(scale=0.01, size=n_features)\n",
    "b = 0.0\n",
    "\n",
    "# Running sums enable the averaged (voted) perceptron variant\n",
    "w_sum = np.zeros_like(w)\n",
    "b_sum = 0.0\n",
    "count = 0\n",
    "\n",
    "best_w, best_b = w.copy(), b\n",
    "best_acc = -1.0\n",
    "\n",
    "for epoch in range(n_epochs):\n",
    "    perm = rng.permutation(X_train.shape[0])\n",
    "    errors = 0\n",
    "    for i in perm:\n",
    "        xi = X_train[i]\n",
    "        yi = y_train_signed[i]\n",
    "        linear_output = np.dot(xi, w) + b\n",
    "        if yi * linear_output <= 0:\n",
    "            w += lr * yi * xi\n",
    "            b += lr * yi\n",
    "            errors += 1\n",
    "        w_sum += w\n",
    "        b_sum += b\n",
    "        count += 1\n",
    "\n",
    "    # Evaluate pocket weights on the test split to keep the best-performing snapshot\n",
    "    y_val_pred = np.where(X_test @ w + b >= 0, 1, -1)\n",
    "    acc = np.mean(y_val_pred == y_test_signed)\n",
    "    if acc > best_acc:\n",
    "        best_acc, best_w, best_b = acc, w.copy(), b\n",
    "\n",
    "    if epoch % 100 == 0 or errors == 0:\n",
    "        print(f\"Epoch {epoch}, misclassifications: {errors}, val_acc: {acc:.4f}\")\n",
    "    if errors == 0:\n",
    "        print(\"Converged (no errors) at epoch\", epoch)\n",
    "        break\n",
    "\n",
    "# use averaged weights (recommended)\n",
    "w_avg = w_sum / max(1, count)\n",
    "b_avg = b_sum / max(1, count)\n",
    "\n",
    "# choose what to evaluate: averaged \n",
    "w_final, b_final = w_avg, b_avg"
   ]
  },
  {
   "cell_type": "markdown",
   "id": "6a63a194",
   "metadata": {},
   "source": [
    "## Evaluate predictive performance\n",
    " \n",
    "We score the averaged perceptron on the withheld test split, reporting both the confusion matrix (counts of true/false positives and negatives) and the precision/recall oriented classification report. This mirrors the standard diagnostics used for binary medical screening tasks."
   ]
  },
  {
   "cell_type": "code",
   "execution_count": null,
   "id": "911e7dbf",
   "metadata": {},
   "outputs": [
    {
     "name": "stdout",
     "output_type": "stream",
     "text": [
      "[[72  3]\n",
      " [ 3 35]]\n",
      "              precision    recall  f1-score   support\n",
      "\n",
      "      Benign       0.96      0.96      0.96        75\n",
      "   Malignant       0.92      0.92      0.92        38\n",
      "\n",
      "    accuracy                           0.95       113\n",
      "   macro avg       0.94      0.94      0.94       113\n",
      "weighted avg       0.95      0.95      0.95       113\n",
      "\n"
     ]
    }
   ],
   "source": [
    "# Evaluate averaged perceptron on the hold-out test set\n",
    "y_pred_signed = np.where(X_test @ w_final + b_final >= 0, 1, -1)\n",
    "y_pred = np.where(y_pred_signed == 1, 1, 0)  # back to original label space if you like\n",
    "\n",
    "from sklearn.metrics import classification_report, confusion_matrix\n",
    "print(confusion_matrix(y_test, y_pred))\n",
    "print(classification_report(y_test, y_pred, target_names=['Benign','Malignant']))"
   ]
  },
  {
   "cell_type": "markdown",
   "id": "290bacbb",
   "metadata": {},
   "source": [
    "## Principal Component Analysis (PCA)\n",
    " \n",
    "To build intuition about the learned decision boundary we project the high-dimensional feature space onto its two most informative principal components. Visualising the held-out samples in this reduced space highlights which cases are misclassified and whether the malignant/benign clusters remain linearly separable after standardisation."
   ]
  },
  {
   "cell_type": "code",
   "execution_count": 543,
   "id": "8d883d0b",
   "metadata": {},
   "outputs": [],
   "source": [
    "n_components=2\n",
    "\n",
    "# Step 1: Center data\n",
    "pca_mean = np.mean(X_train, axis=0) \n",
    "X_train_centered = X_train - pca_mean\n",
    "\n",
    "# Step 2: Covariance matrix\n",
    "cov_matrix = np.cov(X_train_centered, rowvar=False)\n",
    "\n",
    "# Step 3: Eigen decomposition\n",
    "eigenvalues, eigenvectors = np.linalg.eigh(cov_matrix)\n",
    "\n",
    "# Step 4: Sort by descending eigenvalues\n",
    "sorted_idx = np.argsort(eigenvalues)[::-1]\n",
    "components_ = eigenvectors[:, sorted_idx[:n_components]]\n",
    "\n",
    "# Step 5: Project data\n",
    "X_test_centered = X_test - pca_mean\n",
    "X_proj = X_test_centered @ components_"
   ]
  },
  {
   "cell_type": "code",
   "execution_count": null,
   "id": "f7ea5859",
   "metadata": {},
   "outputs": [
    {
     "data": {
      "image/png": "[encoded data removed]",
      "text/plain": [
       "<Figure size 800x600 with 1 Axes>"
      ]
     },
     "metadata": {},
     "output_type": "display_data"
    }
   ],
   "source": [
    "# Visualise PCA projection with correctness annotations\n",
    "import matplotlib.pyplot as plt\n",
    "correct = (y_test == y_pred)\n",
    "plt.figure(figsize=(8,6))\n",
    "plt.scatter(X_proj[~correct,0], X_proj[~correct,1], marker='x', label='Misclassified', s=50, c='red')\n",
    "for cls, lbl in [(1, 'Malignant'), (0, 'Benign')]:\n",
    "    idx = (y_test == cls) & correct\n",
    "    plt.scatter(X_proj[idx,0], X_proj[idx,1], label=f'{lbl} (correct)', alpha=0.6, c=('darkorange' if cls==1 else 'blue'), marker=('^' if cls==1 else 'o'))\n",
    "plt.legend()\n",
    "plt.title(\"PCA of test set with prediction correctness\")\n",
    "plt.show()"
   ]
  },
  {
   "cell_type": "markdown",
   "id": "a9cc3f49",
   "metadata": {},
   "source": [
    "## Takeaways\n",
    " \n",
    "- Feature scaling plus averaged perceptron delivers a stable linear separator on this dataset without the need for regularisation.\n",
    "- The confusion matrix highlights where malignant cases could still be missed—worth monitoring with threshold tuning or alternative models.\n",
    "- PCA indicates the projected clusters are mostly separable; misclassifications tend to sit near the class boundary, suggesting the model is capacity-limited rather than underfit data preprocessing.\n",
    " \n",
    "In practice the strict linear decision surface of a perceptron underfits the nuanced structure of breast cancer data, so modern clinics favour probabilistic linear models such as logistic regression or margin-based support vector machines that offer calibrated uncertainty estimates and stronger robustness."
   ]
  },
  {
   "cell_type": "markdown",
   "id": "71559107",
   "metadata": {},
   "source": [
    "## Perceptron class implementation\n",
    " \n",
    "The following class encapsulates the exact training loop used above, exposing `fit`, `decision_function`, and `predict` methods so the averaged/pocket perceptron can be reused on future datasets. Provide a validation split via `validation_data` when you want to retain the best-performing \"pocket\" weights during training."
   ]
  },
  {
   "cell_type": "code",
   "execution_count": null,
   "id": "73c4f784",
   "metadata": {},
   "outputs": [],
   "source": [
    "class Perceptron:\n",
    "    \"\"\"Averaged perceptron with optional pocket weights for binary classification.\"\"\"\n",
    "    def __init__(self, n_epochs=1000, lr=0.01, random_state=None, average=True, use_pocket=True):\n",
    "        self.n_epochs = n_epochs\n",
    "        self.lr = lr\n",
    "        self.random_state = random_state\n",
    "        self.average = average\n",
    "        self.use_pocket = use_pocket\n",
    "        self.w_ = None\n",
    "        self.b_ = None\n",
    "        self.w_pocket_ = None\n",
    "        self.b_pocket_ = None\n",
    "        self.best_acc_ = None\n",
    "        self.w_avg_ = None\n",
    "        self.b_avg_ = None\n",
    "\n",
    "    def fit(self, X_train, y_train, validation_data=None):\n",
    "        rng = np.random.default_rng(self.random_state)\n",
    "        y_signed = np.where(y_train == 1, 1, -1)\n",
    "        n_samples, n_features = X_train.shape\n",
    "        w = rng.normal(scale=0.01, size=n_features)\n",
    "        b = 0.0\n",
    "        w_sum = np.zeros_like(w)\n",
    "        b_sum = 0.0\n",
    "        count = 0\n",
    "        best_w = w.copy()\n",
    "        best_b = b\n",
    "        best_acc = -1.0\n",
    "\n",
    "        X_val, y_val = None, None\n",
    "        if validation_data is not None:\n",
    "            X_val, y_val = validation_data\n",
    "            y_val_signed = np.where(y_val == 1, 1, -1)\n",
    "\n",
    "        for epoch in range(self.n_epochs):\n",
    "            perm = rng.permutation(n_samples)\n",
    "            errors = 0\n",
    "            for idx in perm:\n",
    "                xi = X_train[idx]\n",
    "                yi = y_signed[idx]\n",
    "                linear_output = np.dot(xi, w) + b\n",
    "                if yi * linear_output <= 0:\n",
    "                    w += self.lr * yi * xi\n",
    "                    b += self.lr * yi\n",
    "                    errors += 1\n",
    "                if self.average:\n",
    "                    w_sum += w\n",
    "                    b_sum += b\n",
    "                    count += 1\n",
    "\n",
    "            if self.use_pocket and validation_data is not None:\n",
    "                y_val_pred = np.where(X_val @ w + b >= 0, 1, -1)\n",
    "                acc = np.mean(y_val_pred == y_val_signed)\n",
    "                if acc > best_acc:\n",
    "                    best_acc = acc\n",
    "                    best_w = w.copy()\n",
    "                    best_b = b\n",
    "            elif self.use_pocket:\n",
    "                y_train_pred = np.where(X_train @ w + b >= 0, 1, -1)\n",
    "                acc = np.mean(y_train_pred == y_signed)\n",
    "                if acc > best_acc:\n",
    "                    best_acc = acc\n",
    "                    best_w = w.copy()\n",
    "                    best_b = b\n",
    "\n",
    "            if errors == 0:\n",
    "                break\n",
    "\n",
    "        self.w_ = w\n",
    "        self.b_ = b\n",
    "        self.w_pocket_ = best_w if self.use_pocket else None\n",
    "        self.b_pocket_ = best_b if self.use_pocket else None\n",
    "        self.best_acc_ = best_acc if self.use_pocket else None\n",
    "\n",
    "        if self.average and count > 0:\n",
    "            self.w_avg_ = w_sum / count\n",
    "            self.b_avg_ = b_sum / count\n",
    "        else:\n",
    "            self.w_avg_ = None\n",
    "            self.b_avg_ = None\n",
    "        return self\n",
    "\n",
    "    def decision_function(self, X, use=\"average\"):\n",
    "        if use == \"average\" and self.w_avg_ is not None:\n",
    "            return X @ self.w_avg_ + self.b_avg_\n",
    "        if use == \"pocket\" and self.use_pocket and self.w_pocket_ is not None:\n",
    "            return X @ self.w_pocket_ + self.b_pocket_\n",
    "        return X @ self.w_ + self.b_\n",
    "\n",
    "    def predict(self, X, use=\"average\"):\n",
    "        scores = self.decision_function(X, use=use)\n",
    "        return np.where(scores >= 0, 1, 0)"
   ]
  }
 ],
 "metadata": {
  "kernelspec": {
   "display_name": "notebooks",
   "language": "python",
   "name": "python3"
  },
  "language_info": {
   "codemirror_mode": {
    "name": "ipython",
    "version": 3
   },
   "file_extension": ".py",
   "mimetype": "text/x-python",
   "name": "python",
   "nbconvert_exporter": "python",
   "pygments_lexer": "ipython3",
   "version": "3.12.3"
  }
 },
 "nbformat": 4,
 "nbformat_minor": 5
}
